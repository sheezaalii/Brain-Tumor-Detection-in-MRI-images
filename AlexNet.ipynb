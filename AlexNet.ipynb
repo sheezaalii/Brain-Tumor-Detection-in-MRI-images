{
  "cells": [
    {
      "cell_type": "markdown",
      "metadata": {
        "id": "view-in-github",
        "colab_type": "text"
      },
      "source": [
        "<a href=\"https://colab.research.google.com/github/sheezaalii/Brain-Tumor-Detection-in-MRI-images/blob/main/AlexNet.ipynb\" target=\"_parent\"><img src=\"https://colab.research.google.com/assets/colab-badge.svg\" alt=\"Open In Colab\"/></a>"
      ]
    },
    {
      "cell_type": "code",
      "source": [
        "import tensorflow as tf\n",
        "from google.colab import drive\n",
        "import matplotlib.pyplot as plt"
      ],
      "metadata": {
        "id": "VBFlxCmqzpot"
      },
      "execution_count": null,
      "outputs": []
    },
    {
      "cell_type": "code",
      "source": [
        "drive.mount('/content/drive')\n"
      ],
      "metadata": {
        "colab": {
          "base_uri": "https://localhost:8080/"
        },
        "id": "fdQalbRc1FoR",
        "outputId": "6fe8bb7f-83a2-4d62-c53e-cae6a3ef0198"
      },
      "execution_count": null,
      "outputs": [
        {
          "output_type": "stream",
          "name": "stdout",
          "text": [
            "Mounted at /content/drive\n"
          ]
        }
      ]
    },
    {
      "cell_type": "code",
      "source": [
        "import tensorflow as tf\n",
        "import matplotlib.pyplot as plt\n",
        "\n",
        "def alexnet(input_shape, num_classes):\n",
        "    model = tf.keras.models.Sequential([\n",
        "        tf.keras.layers.Conv2D(96, (11, 11), strides=(4, 4), activation='relu', input_shape=input_shape),\n",
        "        tf.keras.layers.MaxPooling2D((3, 3), strides=(2, 2)),\n",
        "        tf.keras.layers.BatchNormalization(),\n",
        "\n",
        "        tf.keras.layers.Conv2D(256, (5, 5), padding='same', activation='relu'),\n",
        "        tf.keras.layers.MaxPooling2D((3, 3), strides=(2, 2)),\n",
        "        tf.keras.layers.BatchNormalization(),\n",
        "\n",
        "        tf.keras.layers.Conv2D(384, (3, 3), padding='same', activation='relu'),\n",
        "        tf.keras.layers.Conv2D(384, (3, 3), padding='same', activation='relu'),\n",
        "        tf.keras.layers.Conv2D(256, (3, 3), padding='same', activation='relu'),\n",
        "        tf.keras.layers.MaxPooling2D((3, 3), strides=(2, 2)),\n",
        "        tf.keras.layers.BatchNormalization(),\n",
        "\n",
        "        tf.keras.layers.Flatten(),\n",
        "        tf.keras.layers.Dense(4096, activation='relu'),\n",
        "        tf.keras.layers.Dropout(0.5),\n",
        "        tf.keras.layers.Dense(4096, activation='relu'),\n",
        "        tf.keras.layers.Dropout(0.5),\n",
        "        tf.keras.layers.Dense(num_classes, activation='softmax')\n",
        "    ])\n",
        "\n",
        "    return model\n",
        "\n",
        "# Example usage\n",
        "input_shape = (227, 227, 3)  # Input shape of images (including channels)\n",
        "num_classes = 3  # Number of output classes\n",
        "\n",
        "# Define the directory containing the data\n",
        "data_directory = '/content/drive/MyDrive/Assignment/val'\n",
        "\n",
        "# Use the image_dataset_from_directory function to load the data\n",
        "train_dataset = tf.keras.preprocessing.image_dataset_from_directory(\n",
        "    data_directory,\n",
        "    labels=\"inferred\",\n",
        "    label_mode=\"categorical\",\n",
        "    validation_split=0.2,\n",
        "    subset=\"training\",\n",
        "    seed=42,\n",
        "    image_size=(227, 227),\n",
        "    batch_size=32,\n",
        "    class_names=['Glioma', 'Meningioma', 'Pituitary tumor']  # Specify the class names\n",
        ")\n",
        "\n",
        "validation_dataset = tf.keras.preprocessing.image_dataset_from_directory(\n",
        "    data_directory,\n",
        "    labels=\"inferred\",\n",
        "    label_mode=\"categorical\",\n",
        "    validation_split=0.2,\n",
        "    subset=\"validation\",\n",
        "    seed=42,\n",
        "    image_size=(227, 227),\n",
        "    batch_size=32,\n",
        "    class_names=['Glioma', 'Meningioma', 'Pituitary tumor']  # Specify the class names\n",
        ")\n",
        "\n",
        "# Configure the dataset for performance\n",
        "train_dataset = train_dataset.prefetch(buffer_size=tf.data.AUTOTUNE)\n",
        "validation_dataset = validation_dataset.prefetch(buffer_size=tf.data.AUTOTUNE)\n",
        "\n",
        "# Build the model\n",
        "model = alexnet(input_shape, num_classes)\n",
        "model.summary()\n",
        "\n",
        "# Compile and train the model\n",
        "model.compile(optimizer='adam', loss='categorical_crossentropy', metrics=['accuracy'])"
      ],
      "metadata": {
        "colab": {
          "base_uri": "https://localhost:8080/"
        },
        "id": "cIPITAd7ChQC",
        "outputId": "872c655f-f549-4017-91e3-b9c5c4a2085a"
      },
      "execution_count": null,
      "outputs": [
        {
          "output_type": "stream",
          "name": "stdout",
          "text": [
            "Found 828 files belonging to 3 classes.\n",
            "Using 663 files for training.\n",
            "Found 828 files belonging to 3 classes.\n",
            "Using 165 files for validation.\n",
            "Model: \"sequential\"\n",
            "_________________________________________________________________\n",
            " Layer (type)                Output Shape              Param #   \n",
            "=================================================================\n",
            " conv2d (Conv2D)             (None, 55, 55, 96)        34944     \n",
            "                                                                 \n",
            " max_pooling2d (MaxPooling2D  (None, 27, 27, 96)       0         \n",
            " )                                                               \n",
            "                                                                 \n",
            " batch_normalization (BatchN  (None, 27, 27, 96)       384       \n",
            " ormalization)                                                   \n",
            "                                                                 \n",
            " conv2d_1 (Conv2D)           (None, 27, 27, 256)       614656    \n",
            "                                                                 \n",
            " max_pooling2d_1 (MaxPooling  (None, 13, 13, 256)      0         \n",
            " 2D)                                                             \n",
            "                                                                 \n",
            " batch_normalization_1 (Batc  (None, 13, 13, 256)      1024      \n",
            " hNormalization)                                                 \n",
            "                                                                 \n",
            " conv2d_2 (Conv2D)           (None, 13, 13, 384)       885120    \n",
            "                                                                 \n",
            " conv2d_3 (Conv2D)           (None, 13, 13, 384)       1327488   \n",
            "                                                                 \n",
            " conv2d_4 (Conv2D)           (None, 13, 13, 256)       884992    \n",
            "                                                                 \n",
            " max_pooling2d_2 (MaxPooling  (None, 6, 6, 256)        0         \n",
            " 2D)                                                             \n",
            "                                                                 \n",
            " batch_normalization_2 (Batc  (None, 6, 6, 256)        1024      \n",
            " hNormalization)                                                 \n",
            "                                                                 \n",
            " flatten (Flatten)           (None, 9216)              0         \n",
            "                                                                 \n",
            " dense (Dense)               (None, 4096)              37752832  \n",
            "                                                                 \n",
            " dropout (Dropout)           (None, 4096)              0         \n",
            "                                                                 \n",
            " dense_1 (Dense)             (None, 4096)              16781312  \n",
            "                                                                 \n",
            " dropout_1 (Dropout)         (None, 4096)              0         \n",
            "                                                                 \n",
            " dense_2 (Dense)             (None, 3)                 12291     \n",
            "                                                                 \n",
            "=================================================================\n",
            "Total params: 58,296,067\n",
            "Trainable params: 58,294,851\n",
            "Non-trainable params: 1,216\n",
            "_________________________________________________________________\n"
          ]
        }
      ]
    },
    {
      "cell_type": "code",
      "source": [
        "\n",
        "\n",
        "class PlotTrainingProgress(tf.keras.callbacks.Callback):\n",
        "    def on_train_end(self, logs=None):\n",
        "        fig, axes = plt.subplots(1, 2, figsize=(12, 4))\n",
        "\n",
        "        axes[0].plot(self.model.history.history['loss'], label='Training Loss')\n",
        "        axes[0].plot(self.model.history.history['val_loss'], label='Validation Loss')\n",
        "        axes[0].set_xlabel('Epoch')\n",
        "        axes[0].set_ylabel('Loss')\n",
        "        axes[0].set_title('Training and Validation Loss')\n",
        "        axes[0].legend()\n",
        "\n",
        "        axes[1].plot(self.model.history.history['accuracy'], label='Training Accuracy')\n",
        "        axes[1].plot(self.model.history.history['val_accuracy'], label='Validation Accuracy')\n",
        "        axes[1].set_xlabel('Epoch')\n",
        "        axes[1].set_ylabel('Accuracy')\n",
        "        axes[1].set_title('Training and Validation Accuracy')\n",
        "        axes[1].legend()\n",
        "\n",
        "        plt.tight_layout()\n",
        "        plt.show()  # Show the final figure\n",
        "\n",
        "history = model.fit(\n",
        "    train_dataset,\n",
        "    validation_data=validation_dataset,\n",
        "    epochs=20,\n",
        "    callbacks=[PlotTrainingProgress()]\n",
        ")\n",
        "\n",
        "model.save('/content/drive/MyDrive/Assignment/saved_model')\n"
      ],
      "metadata": {
        "id": "j-wzjdA_2Fip"
      },
      "execution_count": null,
      "outputs": []
    },
    {
      "cell_type": "code",
      "source": [],
      "metadata": {
        "id": "F2fwJBg08ktX"
      },
      "execution_count": null,
      "outputs": []
    }
  ],
  "metadata": {
    "colab": {
      "provenance": [],
      "gpuType": "T4",
      "include_colab_link": true
    },
    "kernelspec": {
      "display_name": "Python 3",
      "name": "python3"
    },
    "accelerator": "GPU"
  },
  "nbformat": 4,
  "nbformat_minor": 0
}